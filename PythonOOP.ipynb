{
 "cells": [
  {
   "cell_type": "code",
   "execution_count": 2,
   "id": "13efab27",
   "metadata": {},
   "outputs": [],
   "source": [
    "#1,4\n",
    "class Vehicle:\n",
    "    \n",
    "    def __init__(self,maxspeed,capacity=4,color=\"white\"):\n",
    "        self.maxspeed = maxspeed\n",
    "        self.capacity = capacity\n",
    "        self.color = color\n",
    "        \n",
    "#2\n",
    "    def show_maxspeed_color(self):\n",
    "        print(\"Maxspeed of vehicle is: \",self.maxspeed)\n",
    "        print(\"Capacity of vehicle is: \",self.capacity)\n",
    "        print(\"Color of vehicle is:  \",self.color)    \n",
    "     \n",
    "    def calculate_fare(self):\n",
    "        fare = self.capacity * 35\n",
    "        print(\"Fare is: \",fare)"
   ]
  },
  {
   "cell_type": "code",
   "execution_count": 3,
   "id": "ff12e986",
   "metadata": {},
   "outputs": [],
   "source": [
    "#3\n",
    "class Car(Vehicle):\n",
    "    pass  "
   ]
  },
  {
   "cell_type": "code",
   "execution_count": 38,
   "id": "4b4065b1",
   "metadata": {},
   "outputs": [],
   "source": [
    "#5\n",
    "class Train(Vehicle):\n",
    "    def __init__(self,maxspeed,capacity=4,color=\"white\"):\n",
    "        Vehicle.__init__(self,maxspeed,capacity,color)\n",
    "     \n",
    "    def calculate_fare(self):\n",
    "        fare = (self.capacity * 35)*1.1\n",
    "        print(\"Fare is: \",int(fare))"
   ]
  },
  {
   "cell_type": "code",
   "execution_count": 39,
   "id": "b640e69e",
   "metadata": {},
   "outputs": [
    {
     "name": "stdout",
     "output_type": "stream",
     "text": [
      "Maxspeed of vehicle is:  45\n",
      "Capacity of vehicle is:  5\n",
      "Color of vehicle is:   white\n",
      "Fare is:  175\n"
     ]
    }
   ],
   "source": [
    "c = Car(45,5)\n",
    "c.show_maxspeed_color()\n",
    "c.calculate_fare()"
   ]
  },
  {
   "cell_type": "code",
   "execution_count": 40,
   "id": "0a6a80e4",
   "metadata": {},
   "outputs": [
    {
     "name": "stdout",
     "output_type": "stream",
     "text": [
      "Maxspeed of vehicle is:  50\n",
      "Capacity of vehicle is:  4\n",
      "Color of vehicle is:   white\n",
      "Fare is:  140\n"
     ]
    }
   ],
   "source": [
    "v = Vehicle(50,4)\n",
    "v.show_maxspeed_color()\n",
    "v.calculate_fare()"
   ]
  },
  {
   "cell_type": "code",
   "execution_count": 41,
   "id": "3bca84c9",
   "metadata": {},
   "outputs": [
    {
     "name": "stdout",
     "output_type": "stream",
     "text": [
      "Maxspeed of vehicle is:  100\n",
      "Capacity of vehicle is:  20\n",
      "Color of vehicle is:   white\n",
      "Fare is:  770\n"
     ]
    }
   ],
   "source": [
    "t = Train(100,20)\n",
    "t.show_maxspeed_color()\n",
    "t.calculate_fare()"
   ]
  },
  {
   "cell_type": "code",
   "execution_count": 42,
   "id": "d1343d07",
   "metadata": {},
   "outputs": [
    {
     "name": "stdout",
     "output_type": "stream",
     "text": [
      "<class '__main__.Car'>\n",
      "<class '__main__.Train'>\n"
     ]
    }
   ],
   "source": [
    "#6\n",
    "print(type(c))\n",
    "print(type(t))"
   ]
  }
 ],
 "metadata": {
  "kernelspec": {
   "display_name": "Python 3 (ipykernel)",
   "language": "python",
   "name": "python3"
  },
  "language_info": {
   "codemirror_mode": {
    "name": "ipython",
    "version": 3
   },
   "file_extension": ".py",
   "mimetype": "text/x-python",
   "name": "python",
   "nbconvert_exporter": "python",
   "pygments_lexer": "ipython3",
   "version": "3.9.7"
  }
 },
 "nbformat": 4,
 "nbformat_minor": 5
}
